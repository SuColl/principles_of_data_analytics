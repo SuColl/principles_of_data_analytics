{
 "cells": [
  {
   "cell_type": "markdown",
   "id": "ccb1f096",
   "metadata": {},
   "source": [
    "# Tasks"
   ]
  },
  {
   "cell_type": "markdown",
   "id": "8de2d400",
   "metadata": {},
   "source": [
    "### Importing libraries"
   ]
  },
  {
   "cell_type": "code",
   "execution_count": 2,
   "id": "735324a5",
   "metadata": {},
   "outputs": [
    {
     "name": "stdout",
     "output_type": "stream",
     "text": [
      "pandas version 2.2.3 sklearn version 1.6.1\n"
     ]
    }
   ],
   "source": [
    "# import Python Data Analysis Library\n",
    "import pandas as pd\n",
    "# import Scikit-Learn Machine Learning Library, contains sample datasets\n",
    "import sklearn as skl\n",
    "# import NumPy to manipulate numerical arrays\n",
    "import numpy as np\n",
    "# import Matplotlib.PyPlot for plotting\n",
    "import matplotlib.pyplot as plt\n",
    "\n",
    "# Check version numbers of these libraries, for compatibility. \n",
    "# If sklearn <1.6.0, must import datasets library explicitly.\n",
    "# Ref: release notes for Scikit-Learn v1.6 (Dec 2024)\n",
    "# https://scikit-learn.org/stable/whats_new/v1.6.html#version-1-6-0\n",
    "print(\"pandas version\", pd.__version__, \"sklearn version\", skl.__version__)"
   ]
  },
  {
   "cell_type": "markdown",
   "id": "07fcd8fc",
   "metadata": {},
   "source": [
    "### Library documentation\n",
    "- [pandas](https://pandas.pydata.org/docs/index.html)\n",
    "- [sklearn](https://scikit-learn.org/stable/index.html)"
   ]
  },
  {
   "cell_type": "markdown",
   "id": "6c49e70c",
   "metadata": {},
   "source": [
    "## Task 1: Source the Data Set\n",
    "### Task Description: \n",
    ">Import the Iris data set from the `sklearn.datasets` module.  \n",
    ">Explain, in your own words, what the `load_iris()` function returns."
   ]
  },
  {
   "cell_type": "markdown",
   "id": "edd8487c",
   "metadata": {},
   "source": [
    "The `load_iris()` function returns the contents of the [1936 Fisher iris dataset][iris] as a data structure composed of rows and columns, with the values parsed correctly.\n",
    "\n",
    "The dataset is a collection of measurements of the sepals and petals of three different related species of iris flower. The dataset consists of measurements of 150 plants, 50 each of three species. Each plant has four measurements - sepal length, sepal width, petal length, and petal width, all in cm. The original data was collected by botanist Edgar Anderson (1936), and used by Fisher (1936) to demonstrate his method of statistical analysis. \n",
    "\n",
    "The [documentation][1] for `load_iris()`] indicates that the version of the iris dataset in the UCL Machine Learning Repository contains two wrong data points, when compared with Fisher's original paper. The version of the dataset fetched by `load_iris()` has been corrected.\n",
    "\n",
    "[1]: https://scikit-learn.org/stable/modules/generated/sklearn.datasets.load_iris.html\n",
    "[iris]: https://archive.ics.uci.edu/dataset/53/iris\n",
    "\n",
    "Anderson, E. (1936). The species problem in Iris. Annals of the Missouri Botanical Garden, 23(3), 457. https://doi.org/10.2307/2394164  \n",
    "Fisher, R. A. (1936). THE USE OF MULTIPLE MEASUREMENTS IN TAXONOMIC PROBLEMS. Annals of Eugenics, 7(2), 179–188. https://doi.org/10.1111/j.1469-1809.1936.tb02137.x\n"
   ]
  },
  {
   "cell_type": "code",
   "execution_count": 3,
   "id": "5d0914d2",
   "metadata": {},
   "outputs": [
    {
     "name": "stdout",
     "output_type": "stream",
     "text": [
      "The load_iris function returned an item of type <class 'sklearn.utils._bunch.Bunch'>\n"
     ]
    }
   ],
   "source": [
    "# Load the dataset.\n",
    "dataset = skl.datasets.load_iris()\n",
    "# Finding the type of what has been returned\n",
    "print(f\"The load_iris function returned an item of type {type(dataset)}\")"
   ]
  },
  {
   "cell_type": "markdown",
   "id": "d9a76e2d",
   "metadata": {},
   "source": [
    "The `load_iris` function returns a data structure of type Bunch. The [scikit-learn documentation for Bunch][bunch] indicates this is a dictionary-like object, so it contains key:value pairs; and Bunch also has the ability to access the values both by key and by attribute.\n",
    "\n",
    "[bunch]:https://scikit-learn.org/stable/modules/generated/sklearn.utils.Bunch.html"
   ]
  },
  {
   "cell_type": "code",
   "execution_count": 4,
   "id": "d95928de",
   "metadata": {},
   "outputs": [
    {
     "name": "stdout",
     "output_type": "stream",
     "text": [
      "Target names accessed by key: ['setosa' 'versicolor' 'virginica']\n",
      "Target names accessed by attribute: ['setosa' 'versicolor' 'virginica']\n"
     ]
    }
   ],
   "source": [
    "# Demonstrating that values can be accessed both by key and by attribute \n",
    "\n",
    "# Looking at the values for target_names, accessing them by key\n",
    "print(f\"Target names accessed by key: {dataset[\"target_names\"]}\")\n",
    "# Looking at the values for target_names, accessing them by attribute\n",
    "print(f\"Target names accessed by attribute: {dataset.target_names}\")"
   ]
  },
  {
   "cell_type": "code",
   "execution_count": 5,
   "id": "bc599842",
   "metadata": {},
   "outputs": [
    {
     "name": "stdout",
     "output_type": "stream",
     "text": [
      "The keys of the Iris dataset are: dict_keys(['data', 'target', 'frame', 'target_names', 'DESCR', 'feature_names', 'filename', 'data_module']) \n",
      "\n",
      "Key \t\t\t Type stored\n",
      "data                     <class 'numpy.ndarray'>\n",
      "target                   <class 'numpy.ndarray'>\n",
      "frame                    <class 'NoneType'>\n",
      "target_names             <class 'numpy.ndarray'>\n",
      "DESCR                    <class 'str'>\n",
      "feature_names            <class 'list'>\n",
      "filename                 <class 'str'>\n",
      "data_module              <class 'str'>\n"
     ]
    }
   ],
   "source": [
    "# Looking at the dataset keys\n",
    "print(\"The keys of the Iris dataset are:\", dataset.keys(), \"\\n\")\n",
    "\n",
    "# Checking the type of each part of the dataset\n",
    "print(\"Key \\t\\t\\t Type stored\")\n",
    "\n",
    "for key, value in dataset.items():\n",
    "\n",
    "    # ref for Python F-string formatting:\n",
    "    # https://docs.python.org/3/library/string.html#formatspec\n",
    "    print(f\"{key:24} {type(value)}\")"
   ]
  },
  {
   "cell_type": "markdown",
   "id": "c8f211f8",
   "metadata": {},
   "source": [
    "- `data` is an array of measurements taken of each sample flower in this dataset\n",
    "- `target` is an array containing integers that represent the species of each sample flower\n",
    "- `frame` (optional) The dataset as a Pandas dataframe (Not present in this dataset as it was not requested when `load_iris()` was called) \n",
    "- `target_names` is a list of strings containing the name of each species of iris (i.e. the names of the targets)\n",
    "- `DESCR` is a few paragraphs describing this dataset, its characteristics, basic statistics, and history\n",
    "- `feature_names` is a list of the names of the measurements taken of each sample flower (i.e. each feature in `data`)\n",
    "- `filename` is the name of the file where the data are stored (i.e. where the data was sourced from by `load_iris()`)\n",
    "- `data_module` is the module wher the data file is stored.\n",
    "\n",
    "Documentation for the `load_iris()` module is available [here](https://scikit-learn.org/stable/modules/generated/sklearn.datasets.load_iris.html)"
   ]
  },
  {
   "cell_type": "code",
   "execution_count": 6,
   "id": "254b1805",
   "metadata": {},
   "outputs": [
    {
     "data": {
      "text/plain": [
       "array([0, 0, 0, 0, 0, 0, 0, 0, 0, 0, 0, 0, 0, 0, 0, 0, 0, 0, 0, 0, 0, 0,\n",
       "       0, 0, 0, 0, 0, 0, 0, 0, 0, 0, 0, 0, 0, 0, 0, 0, 0, 0, 0, 0, 0, 0,\n",
       "       0, 0, 0, 0, 0, 0, 1, 1, 1, 1, 1, 1, 1, 1, 1, 1, 1, 1, 1, 1, 1, 1,\n",
       "       1, 1, 1, 1, 1, 1, 1, 1, 1, 1, 1, 1, 1, 1, 1, 1, 1, 1, 1, 1, 1, 1,\n",
       "       1, 1, 1, 1, 1, 1, 1, 1, 1, 1, 1, 1, 2, 2, 2, 2, 2, 2, 2, 2, 2, 2,\n",
       "       2, 2, 2, 2, 2, 2, 2, 2, 2, 2, 2, 2, 2, 2, 2, 2, 2, 2, 2, 2, 2, 2,\n",
       "       2, 2, 2, 2, 2, 2, 2, 2, 2, 2, 2, 2, 2, 2, 2, 2, 2, 2])"
      ]
     },
     "execution_count": 6,
     "metadata": {},
     "output_type": "execute_result"
    }
   ],
   "source": [
    "# Looking at the targets\n",
    "dataset.target"
   ]
  },
  {
   "cell_type": "code",
   "execution_count": 7,
   "id": "998a2a5d",
   "metadata": {},
   "outputs": [
    {
     "name": "stdout",
     "output_type": "stream",
     "text": [
      ".. _iris_dataset:\n",
      "\n",
      "Iris plants dataset\n",
      "--------------------\n",
      "\n",
      "**Data Set Characteristics:**\n",
      "\n",
      ":Number of Instances: 150 (50 in each of three classes)\n",
      ":Number of Attributes: 4 numeric, predictive attributes and the class\n",
      ":Attribute Information:\n",
      "    - sepal length in cm\n",
      "    - sepal width in cm\n",
      "    - petal length in cm\n",
      "    - petal width in cm\n",
      "    - class:\n",
      "            - Iris-Setosa\n",
      "            - Iris-Versicolour\n",
      "            - Iris-Virginica\n",
      "\n",
      ":Summary Statistics:\n",
      "\n",
      "============== ==== ==== ======= ===== ====================\n",
      "                Min  Max   Mean    SD   Class Correlation\n",
      "============== ==== ==== ======= ===== ====================\n",
      "sepal length:   4.3  7.9   5.84   0.83    0.7826\n",
      "sepal width:    2.0  4.4   3.05   0.43   -0.4194\n",
      "petal length:   1.0  6.9   3.76   1.76    0.9490  (high!)\n",
      "petal width:    0.1  2.5   1.20   0.76    0.9565  (high!)\n",
      "============== ==== ==== ======= ===== ====================\n",
      "\n",
      ":Missing Attribute Values: None\n",
      ":Class Distribution: 33.3% for each of 3 classes.\n",
      ":Creator: R.A. Fisher\n",
      ":Donor: Michael Marshall (MARSHALL%PLU@io.arc.nasa.gov)\n",
      ":Date: July, 1988\n",
      "\n",
      "The famous Iris database, first used by Sir R.A. Fisher. The dataset is taken\n",
      "from Fisher's paper. Note that it's the same as in R, but not as in the UCI\n",
      "Machine Learning Repository, which has two wrong data points.\n",
      "\n",
      "This is perhaps the best known database to be found in the\n",
      "pattern recognition literature.  Fisher's paper is a classic in the field and\n",
      "is referenced frequently to this day.  (See Duda & Hart, for example.)  The\n",
      "data set contains 3 classes of 50 instances each, where each class refers to a\n",
      "type of iris plant.  One class is linearly separable from the other 2; the\n",
      "latter are NOT linearly separable from each other.\n",
      "\n",
      ".. dropdown:: References\n",
      "\n",
      "  - Fisher, R.A. \"The use of multiple measurements in taxonomic problems\"\n",
      "    Annual Eugenics, 7, Part II, 179-188 (1936); also in \"Contributions to\n",
      "    Mathematical Statistics\" (John Wiley, NY, 1950).\n",
      "  - Duda, R.O., & Hart, P.E. (1973) Pattern Classification and Scene Analysis.\n",
      "    (Q327.D83) John Wiley & Sons.  ISBN 0-471-22361-1.  See page 218.\n",
      "  - Dasarathy, B.V. (1980) \"Nosing Around the Neighborhood: A New System\n",
      "    Structure and Classification Rule for Recognition in Partially Exposed\n",
      "    Environments\".  IEEE Transactions on Pattern Analysis and Machine\n",
      "    Intelligence, Vol. PAMI-2, No. 1, 67-71.\n",
      "  - Gates, G.W. (1972) \"The Reduced Nearest Neighbor Rule\".  IEEE Transactions\n",
      "    on Information Theory, May 1972, 431-433.\n",
      "  - See also: 1988 MLC Proceedings, 54-64.  Cheeseman et al\"s AUTOCLASS II\n",
      "    conceptual clustering system finds 3 classes in the data.\n",
      "  - Many, many more ...\n",
      "\n"
     ]
    }
   ],
   "source": [
    "# Looking at the description of the dataset.\n",
    "print(dataset.DESCR)"
   ]
  },
  {
   "cell_type": "markdown",
   "id": "58ec1f0e",
   "metadata": {},
   "source": [
    "## Task 2: Explore the Data Structure"
   ]
  },
  {
   "cell_type": "markdown",
   "id": "b5becef6",
   "metadata": {},
   "source": [
    "### Task Description\n",
    ">Print and explain the shape of the data set, the first and last 5 rows of the data, the feature names, and the target classes."
   ]
  },
  {
   "cell_type": "code",
   "execution_count": 8,
   "id": "f14976d4",
   "metadata": {},
   "outputs": [
    {
     "name": "stdout",
     "output_type": "stream",
     "text": [
      "The NumPy shape() function returns a tuple representing the dimensions of the data array: (150, 4)\n",
      "The data array has 150 samples and 4 features\n"
     ]
    }
   ],
   "source": [
    "# Printing the shape of the data set\n",
    "# Documentation for numpy.shape():\n",
    "# https://numpy.org/doc/stable/reference/generated/numpy.shape.html\n",
    "print(f\"The NumPy shape() function returns a tuple representing the dimensions of the data array: {dataset[\"data\"].shape}\")\n",
    "\n",
    "print(f\"The data array has {dataset['data'].shape[0]} samples and {dataset['data'].shape[1]} features\")"
   ]
  },
  {
   "cell_type": "code",
   "execution_count": 9,
   "id": "14d9f714",
   "metadata": {},
   "outputs": [
    {
     "name": "stdout",
     "output_type": "stream",
     "text": [
      "The first five rows of the data are:\n",
      "[[5.1 3.5 1.4 0.2]\n",
      " [4.9 3.  1.4 0.2]\n",
      " [4.7 3.2 1.3 0.2]\n",
      " [4.6 3.1 1.5 0.2]\n",
      " [5.  3.6 1.4 0.2]]\n",
      "The last five rows of the data are:\n",
      "[[6.7 3.  5.2 2.3]\n",
      " [6.3 2.5 5.  1.9]\n",
      " [6.5 3.  5.2 2. ]\n",
      " [6.2 3.4 5.4 2.3]\n",
      " [5.9 3.  5.1 1.8]]\n"
     ]
    }
   ],
   "source": [
    "# Looking at the data, first 5 rows\n",
    "print(\"The first five rows of the data are:\")\n",
    "print(dataset[\"data\"][:5])\n",
    "\n",
    "# Looking at the data, last 5 rows\n",
    "print(\"The last five rows of the data are:\")\n",
    "print(dataset[\"data\"][-5:])"
   ]
  },
  {
   "cell_type": "code",
   "execution_count": 10,
   "id": "27e3930f",
   "metadata": {},
   "outputs": [
    {
     "name": "stdout",
     "output_type": "stream",
     "text": [
      "['sepal length (cm)', 'sepal width (cm)', 'petal length (cm)', 'petal width (cm)']\n",
      "The feature names are the names of each attribute represented in the numeric data. They are:\n",
      "sepal length (cm)\n",
      "sepal width (cm)\n",
      "petal length (cm)\n",
      "petal width (cm)\n"
     ]
    }
   ],
   "source": [
    "# Looking at the data feature names\n",
    "print(dataset[\"feature_names\"])\n",
    "\n",
    "print(\"The feature names are the names of each attribute represented in the numeric data. They are:\")\n",
    "for name in dataset[\"feature_names\"]:\n",
    "    print(name)"
   ]
  },
  {
   "cell_type": "code",
   "execution_count": 11,
   "id": "cae5f168",
   "metadata": {},
   "outputs": [
    {
     "name": "stdout",
     "output_type": "stream",
     "text": [
      "['setosa' 'versicolor' 'virginica']\n",
      "The target classes are the names of the classes to which each set of measurements belongs \n",
      "(i.e. the species of iris to which each measured flower belongs.) \n",
      "The classes are:\n",
      "setosa\n",
      "versicolor\n",
      "virginica\n"
     ]
    }
   ],
   "source": [
    "# Looking at the target classes\n",
    "print(dataset[\"target_names\"])\n",
    "\n",
    "print(\"The target classes are the names of the classes to which each set of measurements belongs \\n\"\n",
    "\"(i.e. the species of iris to which each measured flower belongs.) \\nThe classes are:\") \n",
    "for name in dataset[\"target_names\"]:\n",
    "    print(name)"
   ]
  },
  {
   "cell_type": "markdown",
   "id": "dfe40c82",
   "metadata": {},
   "source": [
    "## Task 3: Summarize the Data\n",
    "### Task Description:\n",
    ">For each feature in the dataset, calculate and display:\n",
    ">- mean\n",
    ">- minimum\n",
    ">- maximum\n",
    ">- standard deviation\n",
    ">- median"
   ]
  },
  {
   "cell_type": "code",
   "execution_count": 12,
   "id": "5ea0c20d",
   "metadata": {},
   "outputs": [],
   "source": [
    "# Get number of data samples and features\n",
    "n_samples = dataset.data.shape[0]\n",
    "n_features = dataset.data.shape[1]\n",
    "\n",
    "# Count number of unique targets \n",
    "# documentations for numpy.unique:\n",
    "# https://numpy.org/doc/stable/reference/generated/numpy.unique.html\n",
    "n_targets = len(np.unique(dataset.target))\n"
   ]
  },
  {
   "cell_type": "code",
   "execution_count": 13,
   "id": "01448f0d",
   "metadata": {},
   "outputs": [
    {
     "name": "stdout",
     "output_type": "stream",
     "text": [
      "Feature \t\tMean \tMin \tMax \tStDev \tMedian\n",
      "sepal length (cm)\t5.84\t4.3\t7.9\t0.83\t5.8\n",
      "sepal width (cm)\t3.06\t2.0\t4.4\t0.43\t3.0\n",
      "petal length (cm)\t3.76\t1.0\t6.9\t1.76\t4.35\n",
      "petal width (cm)\t1.20\t0.1\t2.5\t0.76\t1.3\n"
     ]
    }
   ],
   "source": [
    "# print header line to identify each stat in output\n",
    "print(\"Feature \\t\\tMean \\tMin \\tMax \\tStDev \\tMedian\")\n",
    "\n",
    "# For each feature, by index,\n",
    "for feature in range(0,n_features):\n",
    "\n",
    "    # Get name of feature\n",
    "    name = dataset.feature_names[feature]\n",
    "\n",
    "    # Get stats for feature using NumPy statistics methods, documented here:\n",
    "    # https://numpy.org/doc/2.2/reference/routines.statistics.html\n",
    "    mean = np.mean(dataset.data[:,feature])\n",
    "    min = np.min(dataset.data[:,feature])\n",
    "    max = np.max(dataset.data[:,feature])\n",
    "    stdev = np.std(dataset.data[:,feature])\n",
    "    median = np.median(dataset.data[:,feature])\n",
    "\n",
    "    # Print out stats for feature\n",
    "    print(f\"{name}\\t{mean:.2f}\\t{min}\\t{max}\\t{stdev:.2f}\\t{median}\")"
   ]
  },
  {
   "cell_type": "markdown",
   "id": "f22dfca9",
   "metadata": {},
   "source": [
    "## Task 4: Visualize Features\n",
    "### Task Description:\n",
    ">Plot histograms for each feature using matplotlib.\n",
    ">Add appropriate titles and axis labels."
   ]
  },
  {
   "cell_type": "code",
   "execution_count": 14,
   "id": "de892ed8",
   "metadata": {},
   "outputs": [
    {
     "data": {
      "image/png": "[encoded data removed]",
      "text/plain": [
       "<Figure size 640x480 with 4 Axes>"
      ]
     },
     "metadata": {},
     "output_type": "display_data"
    }
   ],
   "source": [
    "# Set up 2 x 2 subplots, set layout = constrained to keep axis labels\n",
    "# from clashing with neighbouring plots.\n",
    "# Ref: https://matplotlib.org/stable/users/explain/axes/constrainedlayout_guide.html\n",
    "plt.subplots(2, 2, layout = \"constrained\") \n",
    "\n",
    "# Make a list of colours so that each species of iris can be displayed \n",
    "# in a different colour.\n",
    "# Color names from\n",
    "# https://htmlcolorcodes.com/color-names/\n",
    "hist_colours = [\"plum\", \"palegreen\", \"skyblue\"]\n",
    "\n",
    "\n",
    "# For each feature, by index (i.e. feature will range from 0 to 3)\n",
    "for feature in range(0,n_features):\n",
    "\n",
    "    # set which subplot we are working on, counting from 1\n",
    "    plt.subplot(2,2,feature + 1)\n",
    "\n",
    "    # Get name of feature\n",
    "    name = dataset.feature_names[feature]\n",
    "\n",
    "    # Get number of observations and set number of histogram bins to \n",
    "    # the square root of the number of observations. (This should always be the \n",
    "    # same number for a rectangular array of data.)\n",
    "    nbins = int((n_samples ** 0.5) // 1)\n",
    "    \n",
    "    for species in range(n_targets):\n",
    "        # Plot the histogram\n",
    "        plt.hist(\n",
    "            dataset.data[dataset.target==species,feature], \n",
    "            bins = nbins,\n",
    "            color = hist_colours[species],\n",
    "            linewidth=0.5, \n",
    "            edgecolor=\"black\",\n",
    "            alpha = 0.5,\n",
    "            label = dataset.target_names[species]\n",
    "        )\n",
    "\n",
    "    # Set the x-axis label to the feature name\n",
    "    plt.xlabel(name)\n",
    "\n",
    "    # Set the y-axis label represent frequency in the dataset\n",
    "    plt.ylabel(\"Frequency\")\n",
    "\n",
    "# All plots use same colours, so calling legend once, outside the loop\n",
    "plt.legend();"
   ]
  },
  {
   "cell_type": "markdown",
   "id": "e01648d0",
   "metadata": {},
   "source": [
    "We can see from these histograms that there is a lot of overlap between targets when looking at sepal length and sepal width, and conversely, targets are much less overlapped when looking at petal length and petael width. \n",
    "\n",
    "For petal length and petal width, the Setosa samples are clearly separated from the others, while the Versicolor and Viriginica samples overlap slightly."
   ]
  },
  {
   "cell_type": "markdown",
   "id": "8f3a8549",
   "metadata": {},
   "source": [
    "## Task 5: Investigate Relationships\n",
    "Task Description:\n",
    ">Choose any two features from the data set and create a scatter plot of them.  \n",
    ">Color-code the three different classes of the scatter plot points."
   ]
  },
  {
   "cell_type": "code",
   "execution_count": 15,
   "id": "5df9caef",
   "metadata": {},
   "outputs": [
    {
     "data": {
      "image/png": "[encoded data removed]",
      "text/plain": [
       "<Figure size 640x480 with 1 Axes>"
      ]
     },
     "metadata": {},
     "output_type": "display_data"
    }
   ],
   "source": [
    "# Choose which features to plot by their index in the data, \n",
    "# i.e. sepal length is 0, sepal width is 1, \n",
    "# petal length is 2, petal width is 3\n",
    "x = 2\n",
    "y = 3\n",
    "\n",
    "# Adapted from previous code cell for histogram plots\n",
    "for species in range(n_targets):\n",
    "    plt.scatter(\n",
    "        dataset.data[dataset.target==species,x],\n",
    "        dataset.data[dataset.target==species,y],\n",
    "        color = hist_colours[species],\n",
    "        label = dataset.target_names[species]\n",
    "    )\n",
    "\n",
    "plt.xlabel(dataset.feature_names[x])\n",
    "plt.ylabel(dataset.feature_names[y])\n",
    "plt.legend();"
   ]
  },
  {
   "cell_type": "markdown",
   "id": "a802156a",
   "metadata": {},
   "source": [
    "## Task 6: Analyze Relationship\n",
    ">Use `numpy.polyfit` to add a regression line to the scatter plot from Task 5."
   ]
  },
  {
   "cell_type": "code",
   "execution_count": 23,
   "id": "911607a3",
   "metadata": {},
   "outputs": [
    {
     "data": {
      "image/png": "[encoded data removed]",
      "text/plain": [
       "<Figure size 640x480 with 1 Axes>"
      ]
     },
     "metadata": {},
     "output_type": "display_data"
    }
   ],
   "source": [
    "# Calculate the coefficients of a linear fit to the scatter plot above\n",
    "# using data from all targets\n",
    "slope, intercept = np.polyfit(dataset.data[:,2], dataset.data[:,3], 1)\n",
    "\n",
    "# Calculate a range of x-values and corresponding y-values \n",
    "# using the linear fit\n",
    "linfit_x_values = np.arange(1,7,0.001)\n",
    "linfit_y_values = (x_values * slope) + intercept\n",
    "\n",
    "# Copied from previous code cell for scatter plots\n",
    "for species in range(n_targets):\n",
    "    plt.scatter(\n",
    "        dataset.data[dataset.target==species,x],\n",
    "        dataset.data[dataset.target==species,y],\n",
    "        color = hist_colours[species],\n",
    "        label = dataset.target_names[species]\n",
    "    )\n",
    "plt.xlabel(dataset.feature_names[x])\n",
    "plt.ylabel(dataset.feature_names[y])\n",
    "\n",
    "plt.legend();\n",
    "\n",
    "# Plot the linear fit calculated above\n",
    "plt.plot(linfit_x_values, linfit_y_values)\n",
    "plt.title(\"Linear fit using all target data\");\n"
   ]
  },
  {
   "cell_type": "markdown",
   "id": "b88bdae4",
   "metadata": {},
   "source": [
    "## General Reference:  \n",
    "[UC Irvine Machine Learning Repository](https://archive.ics.uci.edu/datasets)  \n",
    "[Markdown syntax](https://markdownguide.offshoot.io/cheat-sheet/)"
   ]
  },
  {
   "cell_type": "code",
   "execution_count": null,
   "id": "a6821bd7",
   "metadata": {},
   "outputs": [],
   "source": []
  },
  {
   "cell_type": "markdown",
   "id": "b4ceb6b3",
   "metadata": {},
   "source": [
    "## End of Notebook"
   ]
  }
 ],
 "metadata": {
  "kernelspec": {
   "display_name": "base",
   "language": "python",
   "name": "python3"
  },
  "language_info": {
   "codemirror_mode": {
    "name": "ipython",
    "version": 3
   },
   "file_extension": ".py",
   "mimetype": "text/x-python",
   "name": "python",
   "nbconvert_exporter": "python",
   "pygments_lexer": "ipython3",
   "version": "3.12.7"
  }
 },
 "nbformat": 4,
 "nbformat_minor": 5
}
