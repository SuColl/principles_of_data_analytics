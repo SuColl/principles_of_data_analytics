{
 "cells": [
  {
   "cell_type": "markdown",
   "id": "ccb1f096",
   "metadata": {},
   "source": [
    "# Tasks"
   ]
  },
  {
   "cell_type": "markdown",
   "id": "8de2d400",
   "metadata": {},
   "source": [
    "### Importing libraries"
   ]
  },
  {
   "cell_type": "code",
   "execution_count": 1,
   "id": "735324a5",
   "metadata": {},
   "outputs": [],
   "source": [
    "# import Python Data Analysis Library\n",
    "import pandas as pd\n",
    "# import Scikit-Learn Machine Learning Library, contains sample datasets\n",
    "import sklearn as skl"
   ]
  },
  {
   "cell_type": "markdown",
   "id": "07fcd8fc",
   "metadata": {},
   "source": [
    "### Library documentation\n",
    "- [pandas](https://pandas.pydata.org/docs/index.html)\n",
    "- [sklearn](https://scikit-learn.org/stable/index.html)"
   ]
  },
  {
   "cell_type": "markdown",
   "id": "6c49e70c",
   "metadata": {},
   "source": [
    "## Task 1: Source the Data Set\n",
    "Import the Iris data set from the `sklearn.datasets` module.  \n",
    "Explain, in your own words, what the `load_iris()` function returns."
   ]
  },
  {
   "cell_type": "code",
   "execution_count": null,
   "id": "5d0914d2",
   "metadata": {},
   "outputs": [],
   "source": [
    "# Load the dataset.\n",
    "data = skl.datasets.load_iris()"
   ]
  },
  {
   "cell_type": "markdown",
   "id": "edd8487c",
   "metadata": {},
   "source": [
    "The `load_iris()` function fetches the contents of the [1936 Fisher iris dataset][iris] (from where?) and returns it as a data structure composesd of rows and columns, with the values parsed correctly.\n",
    "\n",
    "The [documentation for `load_iris()`][1] indicates that the version of the iris dataset in the UCL Machine Learning Repository contains two wrong data points, when compared with Fisher's original paper. The version of the dataset fetched by `load_iris()` has been corrected.\n",
    "\n",
    "[1]: https://scikit-learn.org/stable/modules/generated/sklearn.datasets.load_iris.html\n",
    "[iris]: https://archive.ics.uci.edu/dataset/53/iris"
   ]
  },
  {
   "cell_type": "markdown",
   "id": "58ec1f0e",
   "metadata": {},
   "source": [
    "## Task 2: Title"
   ]
  },
  {
   "cell_type": "markdown",
   "id": "b5becef6",
   "metadata": {},
   "source": []
  },
  {
   "cell_type": "code",
   "execution_count": null,
   "id": "cae5f168",
   "metadata": {},
   "outputs": [],
   "source": []
  },
  {
   "cell_type": "markdown",
   "id": "b88bdae4",
   "metadata": {},
   "source": [
    "## General Reference:  \n",
    "[UC Irvine Machine Learning Repository](https://archive.ics.uci.edu/datasets)  \n",
    "[Markdown syntax](https://markdownguide.offshoot.io/cheat-sheet/)"
   ]
  },
  {
   "cell_type": "markdown",
   "id": "b4ceb6b3",
   "metadata": {},
   "source": [
    "## End of Notebook"
   ]
  }
 ],
 "metadata": {
  "kernelspec": {
   "display_name": "Python 3",
   "language": "python",
   "name": "python3"
  },
  "language_info": {
   "codemirror_mode": {
    "name": "ipython",
    "version": 3
   },
   "file_extension": ".py",
   "mimetype": "text/x-python",
   "name": "python",
   "nbconvert_exporter": "python",
   "pygments_lexer": "ipython3",
   "version": "3.12.1"
  }
 },
 "nbformat": 4,
 "nbformat_minor": 5
}
